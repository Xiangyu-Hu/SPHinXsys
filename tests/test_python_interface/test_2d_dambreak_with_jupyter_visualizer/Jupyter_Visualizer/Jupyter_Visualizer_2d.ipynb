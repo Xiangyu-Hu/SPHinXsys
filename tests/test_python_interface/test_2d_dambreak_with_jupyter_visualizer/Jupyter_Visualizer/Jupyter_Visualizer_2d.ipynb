{
 "cells": [
  {
   "cell_type": "markdown",
   "id": "519d6064-b978-47fe-93a6-c877b786d7e4",
   "metadata": {},
   "source": [
    "# Quick Visualizer SPHinXsys - Water/Fluid interactions\n",
    "\n",
    "# Run the simulation\n",
    "This part is correct as of 21/07/2025, but in the future some files might be named different. Alter if needed."
   ]
  },
  {
   "cell_type": "code",
   "execution_count": 3,
   "id": "dff6ce67-68bf-4aeb-9f9f-8f2b0636d64b",
   "metadata": {},
   "outputs": [
    {
     "data": {
      "text/plain": [
       "'test_2d_dambreak_python.cpython-312-x86_64-linux-gnu.so'"
      ]
     },
     "execution_count": 3,
     "metadata": {},
     "output_type": "execute_result"
    }
   ],
   "source": [
    "import shutil \n",
    "#you might have to rename it if your system gives it a different name\n",
    "shutil.move(\"../../lib/test_2d_dambreak_python.cpython-312-x86_64-linux-gnu.so\", \"test_2d_dambreak_python.cpython-312-x86_64-linux-gnu.so\")\n",
    "shutil.move(\"../input\", \"input\")"
   ]
  },
  {
   "cell_type": "code",
   "execution_count": 1,
   "id": "033ebb61-a856-4c6d-8b84-e41e2f4e8c6b",
   "metadata": {},
   "outputs": [
    {
     "ename": "ModuleNotFoundError",
     "evalue": "No module named 'test_2d_dambreak_python'",
     "output_type": "error",
     "traceback": [
      "\u001b[1;31m---------------------------------------------------------------------------\u001b[0m",
      "\u001b[1;31mModuleNotFoundError\u001b[0m                       Traceback (most recent call last)",
      "File \u001b[1;32m~\\Documents\\build_example\\bin\\bind\\pybind_test.py:23\u001b[0m\n\u001b[0;32m     21\u001b[0m sys\u001b[38;5;241m.\u001b[39mpath\u001b[38;5;241m.\u001b[39mappend(path)\n\u001b[0;32m     22\u001b[0m \u001b[38;5;66;03m# change import depending on the project name\u001b[39;00m\n\u001b[1;32m---> 23\u001b[0m \u001b[38;5;28;01mimport\u001b[39;00m \u001b[38;5;21;01mtest_2d_dambreak_python\u001b[39;00m \u001b[38;5;28;01mas\u001b[39;00m \u001b[38;5;21;01mtest_2d\u001b[39;00m\n\u001b[0;32m     26\u001b[0m \u001b[38;5;28;01mdef\u001b[39;00m \u001b[38;5;21mrun_case\u001b[39m():\n\u001b[0;32m     27\u001b[0m     parser \u001b[38;5;241m=\u001b[39m argparse\u001b[38;5;241m.\u001b[39mArgumentParser()\n",
      "\u001b[1;31mModuleNotFoundError\u001b[0m: No module named 'test_2d_dambreak_python'"
     ]
    }
   ],
   "source": [
    "%run pybind_test.py"
   ]
  },
  {
   "cell_type": "code",
   "execution_count": null,
   "id": "0dd01b72-fe9a-46fb-8ed8-c4edda84847a",
   "metadata": {},
   "outputs": [],
   "source": [
    "# %pip install pyvista vtk"
   ]
  },
  {
   "cell_type": "code",
   "execution_count": null,
   "id": "b63d5205-ce66-4784-85df-a69e9e8d6468",
   "metadata": {},
   "outputs": [],
   "source": [
    "import glob\n",
    "import vtk\n",
    "import numpy as np\n",
    "import pyvista as pv\n",
    "import matplotlib.pyplot as plt\n",
    "import time"
   ]
  },
  {
   "cell_type": "markdown",
   "id": "4c462230-97d8-4fc1-8ad3-03beb14bbf62",
   "metadata": {},
   "source": [
    "## Import the required files\n",
    "\n",
    "Make sure you have run the SPHinxSys programm and created the required the .vtp files. Change the directory to what corresponds to your .vtp files (usually ends in 'bin/output/WaterBody____.vtp', but you need to check yourself)"
   ]
  },
  {
   "cell_type": "code",
   "execution_count": null,
   "id": "372d41e1-9dce-4f70-923b-da70470ad857",
   "metadata": {},
   "outputs": [],
   "source": [
    "water     = glob.glob(\"output/WaterBody_*.vtp\")\n",
    "frames    = len(water)\n",
    "wall      = glob.glob(\"output/Wall*.vtp\")"
   ]
  },
  {
   "cell_type": "markdown",
   "id": "bafbd26f-39e0-40a8-b5b0-c4998fd16e30",
   "metadata": {},
   "source": [
    "## Read the required files and generate the grid\n",
    "\n",
    "Read the required files and make an initial plot, this is just to test whether your code reads the program correctly. More documentation can be found here: https://examples.vtk.org/site/Python/IO/ReadPolyData/ , https://vtk.org/doc/nightly/html/classvtkPoints.html and https://examples.vtk.org/site/Python/Snippets/ReadPolyData/ .\n",
    "\n",
    "##### 'location' and 'speed' are lists\n",
    "##### 'grid' and 'velocity' are arrays\n",
    "Currently the code outputs arrays, but if you prefer lists for other uses, know that you need to call location and speed."
   ]
  },
  {
   "cell_type": "code",
   "execution_count": null,
   "id": "08cad859-c3ea-41d6-a45b-3c718e148d94",
   "metadata": {},
   "outputs": [],
   "source": [
    "reader   = vtk.vtkXMLPolyDataReader()"
   ]
  },
  {
   "cell_type": "code",
   "execution_count": null,
   "id": "52507b0a-15dd-48d6-8a60-918b9def8b75",
   "metadata": {},
   "outputs": [],
   "source": [
    "def reading(frame):    #This function reads a certain frame and generates the output\n",
    "    reader.SetFileName(water[frame])\n",
    "    reader.Update() \n",
    "    \n",
    "    output      = reader.GetOutput()\n",
    "    points      = output.GetPoints()\n",
    "    n_points    = output.GetNumberOfPoints()\n",
    "    speed_array = output.GetPointData().GetArray(\"Velocity\")\n",
    "    location    = []\n",
    "    speed       = []\n",
    "    for i in range(int(n_points)):\n",
    "        current_point    = points.GetPoint(i)\n",
    "        current_speed    = speed_array.GetTuple3(i)\n",
    "        current_speed    = np.linalg.norm(current_speed)\n",
    "        location.append(current_point)\n",
    "        speed.append(current_speed)\n",
    "    grid        = np.stack(location)\n",
    "    velocity    = np.stack(speed   )\n",
    "    return grid, velocity"
   ]
  },
  {
   "cell_type": "code",
   "execution_count": null,
   "id": "c0b14837-310b-4ef7-976d-a0fbf73e5abc",
   "metadata": {},
   "outputs": [],
   "source": [
    "def reading_wall(wall):  #This function reads the wall boundary\n",
    "    reader.SetFileName(wall[0])\n",
    "    reader.Update() \n",
    "    \n",
    "    output     = reader.GetOutput()\n",
    "    points     = output.GetPoints()\n",
    "    n_points   = output.GetNumberOfPoints()\n",
    "    barrier    = []\n",
    "    for i in range(n_points):\n",
    "        barrier.append(points.GetPoint(i))\n",
    "    grid       = np.stack(barrier)\n",
    "    return grid"
   ]
  },
  {
   "cell_type": "markdown",
   "id": "5ebaf2f4-e8ba-4f0c-9ffe-3d55a6abc628",
   "metadata": {},
   "source": [
    "## Make a .gif of your points.\n",
    "\n",
    "https://docs.pyvista.org/examples/02-plot/gif.html has a great example of how .gif's are created in PyVista. You can change some things according to your preference. Like the particle size, opacity, but you can also adjust the colormap to your preferences. Use https://matplotlib.org/stable/gallery/color/colormap_reference.html where you can see all the colormaps that are included in Matplotlib.\n",
    "\n",
    "You can change the camera position in many ways, but you can also manually place the camera in a position. Please refer to: https://docs.pyvista.org/api/plotting/_autosummary/pyvista.plotter.camera_position\n",
    "\n",
    "##### note: \n",
    "It is a known problem that the colorbar is not extremely stable in PyVista. As soon as I've found a solution for that I'll implement it\n"
   ]
  },
  {
   "cell_type": "code",
   "execution_count": null,
   "id": "4794e638-d789-4cd5-adae-33a74fb03c7e",
   "metadata": {},
   "outputs": [],
   "source": [
    "#create the plot itself\n",
    "plotter = pv.Plotter(notebook=False, off_screen=True)\n",
    "\n",
    "#This is the wall boundary\n",
    "#(don't delete the section, it helps the camera position)\n",
    "plotter.add_points(\n",
    "    reading_wall(wall),\n",
    "    opacity= 1.0,                   #set this to zero if you don't want to see the wall at all \n",
    "    render_points_as_spheres=True,\n",
    "    point_size=5                      #change the size of the particles accordingly\n",
    ")\n",
    "\n",
    "#These are the initial fluid particles\n",
    "plotter.add_points(\n",
    "    reading(0)[0],\n",
    "    scalars = reading(0)[1],\n",
    "    opacity= 1,                       #opacity of the water particles. If you want to have a cut through a certain axis, see the next kernel\n",
    "    cmap='turbo',    \n",
    "    clim=[0, 1],                    \n",
    "    render_points_as_spheres=True,\n",
    "    point_size=5                      #change the size of the particles accordingly\n",
    ")\n",
    "plotter.set_background(\"white\")\n",
    "plotter.camera_position = 'xy'        #the first letter is the horizontal axis the second axis is the vertical axis. \n",
    "\n",
    "#Open the give and give it a name\n",
    "plotter.open_gif(\"test_2d_dambreak.gif\")   \n",
    "\n",
    "nframe = 15\n",
    "print(f\"start creating .gif\")\n",
    "\n",
    "starttime = time.time()\n",
    "midtime   = starttime\n",
    "for j in range(frames):\n",
    "    pts, vel  = reading(j)\n",
    "    plotter.update_coordinates(pts, render=False)\n",
    "    plotter.update_scalars(vel, render=False)\n",
    "    plotter.write_frame()\n",
    "    if j % int(frames/10+1) == 0:\n",
    "        print(f\"Currently at {int(j/frames*10)/10}% of {int(frames)} frames. Total time {int(time.time() - starttime)} seconds, time since last update {int(time.time() - midtime)} seconds \")\n",
    "        midtime = time.time()\n",
    "\n",
    "print(f\"All done compiling frames\")\n",
    "\n",
    "plotter.close()\n",
    "print(f\".gif created, enjoy!\")"
   ]
  }
 ],
 "metadata": {
  "kernelspec": {
   "display_name": "Python [conda env:base] *",
   "language": "python",
   "name": "conda-base-py"
  },
  "language_info": {
   "codemirror_mode": {
    "name": "ipython",
    "version": 3
   },
   "file_extension": ".py",
   "mimetype": "text/x-python",
   "name": "python",
   "nbconvert_exporter": "python",
   "pygments_lexer": "ipython3",
   "version": "3.12.7"
  }
 },
 "nbformat": 4,
 "nbformat_minor": 5
}
